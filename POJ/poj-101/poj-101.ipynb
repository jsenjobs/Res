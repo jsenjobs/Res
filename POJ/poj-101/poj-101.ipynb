{
 "cells": [
  {
   "cell_type": "markdown",
   "metadata": {},
   "source": [
    "# Table of Contents\n",
    " <p><div class=\"lev1 toc-item\"><a href=\"#POJ-101-Contents\" data-toc-modified-id=\"POJ-101-Contents-1\"><span class=\"toc-item-num\">1&nbsp;&nbsp;</span>POJ-101 Contents</a></div><div class=\"lev2 toc-item\"><a href=\"#目录\" data-toc-modified-id=\"目录-11\"><span class=\"toc-item-num\">1.1&nbsp;&nbsp;</span>目录</a></div><div class=\"lev3 toc-item\"><a href=\"#图例\" data-toc-modified-id=\"图例-111\"><span class=\"toc-item-num\">1.1.1&nbsp;&nbsp;</span><a href=\"#imgage\">图例</a></a></div><div class=\"lev3 toc-item\"><a href=\"#Api说明\" data-toc-modified-id=\"Api说明-112\"><span class=\"toc-item-num\">1.1.2&nbsp;&nbsp;</span><a href=\"#api\">Api说明</a></a></div><div class=\"lev3 toc-item\"><a href=\"#错误码说明\" data-toc-modified-id=\"错误码说明-113\"><span class=\"toc-item-num\">1.1.3&nbsp;&nbsp;</span><a href=\"https://github.com/jsenjobs/Res/blob/master/POJ/ErrorCode.ipynb\" target=\"_blank\">错误码说明</a></a></div>\n"
   ]
  },
  {
   "cell_type": "markdown",
   "metadata": {},
   "source": [
    "##   图例\n",
    "\n",
    "<table id = \"imgage\" cellspacing=\"20\" style=\"border:0px\">\n",
    "<tbody style=\"border:0px\"><tr style=\"border:0px\">\n",
    "<td style=\"border:0px\">  <a class=\"reference external\" href=\"https://raw.githubusercontent.com/jsenjobs/Res/master/POJ/poj-101/source/poj-101/level1.png\"><img alt=\"texas\" src=\"https://raw.githubusercontent.com/jsenjobs/Res/master/POJ/poj-101/source/poj-101/level1.png\"></a>         <span class=\"raw-html\"></span></td>\n",
    "<td style=\"border:0px\">  <a class=\"reference external\" href=\"https://raw.githubusercontent.com/jsenjobs/Res/master/POJ/poj-101/source/poj-101/ServerComponent.png\"><img alt=\"lorenz\" src=\"https://raw.githubusercontent.com/jsenjobs/Res/master/POJ/poj-101/source/poj-101/ServerComponent.png\"></a>       <span class=\"raw-html\"></span></td>\n",
    "<td style=\"border:0px\">  <a class=\"reference external\" href=\"https://raw.githubusercontent.com/jsenjobs/Res/master/POJ/poj-101/source/poj-101/crud/CRUD0.png\"><img alt=\"image\" src=\"https://raw.githubusercontent.com/jsenjobs/Res/master/POJ/poj-101/source/poj-101/crud/CRUD0.png\"></a>         <span class=\"raw-html\"></span></td>\n",
    "<td style=\"border:0px\">  <a class=\"reference external\" href=\"https://raw.githubusercontent.com/jsenjobs/Res/master/POJ/poj-101/source/poj-101/ER%20Model/poj-101ER.png\"><img alt=\"annular\" src=\"https://raw.githubusercontent.com/jsenjobs/Res/master/POJ/poj-101/source/poj-101/ER%20Model/poj-101ER.png\"></a>         <span class=\"raw-html\"></span></td>\n",
    "</tr><tr style=\"border:0px\">\n",
    "</tbody></table>"
   ]
  },
  {
   "cell_type": "markdown",
   "metadata": {
    "collapsed": true
   },
   "source": [
    "## Api说明\n",
    "\n",
    "### 用户系统[RestAccount](http://aaa.bigfacewo.com/jt/#/readme/microdetail/RestAccount/http:%2F%2F119.23.238.170%2Fsys_user)\n",
    "> <span id = \"api\"><abbr title=\"Hyper Text Markup Language\">GET</abbr> /verify/phone</span>\n",
    "\n",
    "> <abbr title=\"Hyper Text Markup Language\">GET</abbr> /verify/email\n",
    "\n",
    "> <abbr title=\"Hyper Text Markup Language\">POST</abbr> /user/login\n",
    "\n",
    "> <abbr title=\"Hyper Text Markup Language\">POST</abbr> /user/register\n",
    "\n",
    "> <abbr title=\"Hyper Text Markup Language\">POST</abbr> /user/update\n",
    "\n",
    "> <abbr title=\"Hyper Text Markup Language\">GET</abbr> /user/token\n",
    "\n",
    "> <abbr title=\"Hyper Text Markup Language\">GET</abbr> /user/logout\n",
    "\n",
    "> <abbr title=\"Hyper Text Markup Language\">POST</abbr> /user/resetphone\n",
    "\n",
    "### 商户信息系统-未实现\n",
    "> <abbr title=\"Hyper Text Markup Language\">POST</abbr> /restaurant/save\n",
    "\n",
    "> <abbr title=\"Hyper Text Markup Language\">POST</abbr> /restaurant/update\n",
    "\n",
    "> <abbr title=\"Hyper Text Markup Language\">POST</abbr> /restaurant/retrieve\n",
    "\n",
    "### 商家商品模块-未实现\n",
    "> <abbr title=\"Hyper Text Markup Language\">POST</abbr> /commodity/add\n",
    "\n",
    "> <abbr title=\"Hyper Text Markup Language\">POST</abbr> /commodity/del\n",
    "\n",
    "> <abbr title=\"Hyper Text Markup Language\">POST</abbr> /commodity/update\n",
    "\n",
    "### 支付模块-未实现？\n",
    "\n",
    "### 订单模块-未实现\n",
    "> <abbr title=\"Hyper Text Markup Language\">POST</abbr> /order/save\n",
    "\n",
    "> <abbr title=\"Hyper Text Markup Language\">POST</abbr> /order/list\n",
    "\n",
    "### 通知模块（MQTT-Apollo）-未实现\n",
    "主题：poj-101-order\n",
    "tcp地址：tcp://119.23.238.170:3389\n",
    "> 无Api\n",
    "\n",
    "![](https://img.shields.io/bower/v/editor.md.svg)"
   ]
  },
  {
   "cell_type": "markdown",
   "metadata": {},
   "source": []
  }
 ],
 "metadata": {
  "kernelspec": {
   "display_name": "Python 3",
   "language": "python",
   "name": "python3"
  },
  "language_info": {
   "codemirror_mode": {
    "name": "ipython",
    "version": 3
   },
   "file_extension": ".py",
   "mimetype": "text/x-python",
   "name": "python",
   "nbconvert_exporter": "python",
   "pygments_lexer": "ipython3",
   "version": "3.5.0"
  },
  "toc": {
   "colors": {
    "hover_highlight": "#DAA520",
    "navigate_num": "#000000",
    "navigate_text": "#333333",
    "running_highlight": "#FF0000",
    "selected_highlight": "#FFD700",
    "sidebar_border": "#EEEEEE",
    "wrapper_background": "#FFFFFF"
   },
   "moveMenuLeft": true,
   "nav_menu": {
    "height": "105px",
    "width": "252px"
   },
   "navigate_menu": true,
   "number_sections": true,
   "sideBar": true,
   "skip_h1_title": false,
   "threshold": "3",
   "toc_cell": false,
   "toc_section_display": "block",
   "toc_window_display": true,
   "widenNotebook": false
  }
 },
 "nbformat": 4,
 "nbformat_minor": 2
}
