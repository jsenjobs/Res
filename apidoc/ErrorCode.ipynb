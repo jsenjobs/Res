{
 "cells": [
  {
   "cell_type": "markdown",
   "metadata": {},
   "source": [
    "# ErrcorCode说明\n",
    "\n",
    "\n",
    "200000 无错误，返回正常数据\n",
    "\n",
    "\n",
    "401000 访问资源未授权（可能需要用户登入或有特定的角色、权限才能访问该资源）\n",
    "\n",
    "401100 用户未登入\n",
    "\n",
    "401101 用户角色认证失败\n",
    "\n",
    "401102 用户权限认证失败\n",
    "\n",
    "404000 访问资源不存在（访问的资源不存在，不匹配）\n",
    "\n",
    "404001 资源存在，更新失败\n",
    "\n",
    "404100 用户登入不匹配\n",
    "\n",
    "404101 登入用户名错误\n",
    "\n",
    "404102 登入密码错误\n",
    "\n",
    "404103 验证码错误\n",
    "\n",
    "404104 token验证失败\n",
    "\n",
    "\n",
    "500000 服务器处理出错（服务器内部错误，抛出异常等）\n",
    "\n",
    "500100 数据库写错误（在保存到数据库时出现错误）\n",
    "\n",
    "500101 数据库读错误（在读取数据库数据时出现错误）\n",
    "\n",
    "500200 服务器进行中间网络请求时出现错误\n",
    "\n",
    "500201 发送验证码错误\n",
    "\n",
    "500202 服务器发送邮件错误\n",
    "\n",
    "\n"
   ]
  },
  {
   "cell_type": "markdown",
   "metadata": {},
   "source": [
    "# Code说明\n",
    "\n",
    "0 无错误\n",
    "\n",
    "1 错误"
   ]
  }
 ],
 "metadata": {
  "kernelspec": {
   "display_name": "Python 3",
   "language": "python",
   "name": "python3"
  },
  "language_info": {
   "codemirror_mode": {
    "name": "ipython",
    "version": 3
   },
   "file_extension": ".py",
   "mimetype": "text/x-python",
   "name": "python",
   "nbconvert_exporter": "python",
   "pygments_lexer": "ipython3",
   "version": "3.5.0"
  }
 },
 "nbformat": 4,
 "nbformat_minor": 2
}
